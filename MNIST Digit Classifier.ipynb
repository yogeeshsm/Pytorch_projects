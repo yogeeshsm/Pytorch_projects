{
 "cells": [
  {
   "cell_type": "code",
   "execution_count": null,
   "id": "31e8d39e-ad55-4d43-86ac-c1393bba29fa",
   "metadata": {},
   "outputs": [],
   "source": [
    "import torch\n",
    "import torch.nn as nn\n",
    "import torch.nn.functional as F\n",
    "from torchvision import datasets, transforms\n",
    "from torch.utils.data import DataLoader\n",
    " \n",
    "# Download and preprocess MNIST data\n",
    "transform = transforms.ToTensor()  # Convert images to tensor format\n",
    "train_dataset = datasets.MNIST(root='./data', train=True, transform=transform, download=True)\n",
    "test_dataset = datasets.MNIST(root='./data', train=False, transform=transform, download=True)\n",
    " \n",
    "# Load data in batches\n",
    "train_loader = DataLoader(dataset=train_dataset, batch_size=64, shuffle=True)\n",
    "test_loader = DataLoader(dataset=test_dataset, batch_size=1000)\n",
    " \n",
    "# Define a simple feedforward neural network\n",
    "class DigitClassifier(nn.Module):\n",
    "    def __init__(self):\n",
    "        super(DigitClassifier, self).__init__()\n",
    "        self.fc1 = nn.Linear(28*28, 128)  # Input layer to hidden layer\n",
    "        self.fc2 = nn.Linear(128, 10)     # Hidden layer to 10 output classes\n",
    " \n",
    "    def forward(self, x):\n",
    "        x = x.view(-1, 28*28)  # Flatten the image\n",
    "        x = F.relu(self.fc1(x))  # Apply ReLU activation\n",
    "        return self.fc2(x)  # Output logits for 10 digits\n",
    " \n",
    "model = DigitClassifier()\n",
    " \n",
    "# Use cross-entropy loss for multi-class classification\n",
    "criterion = nn.CrossEntropyLoss()\n",
    "optimizer = torch.optim.Adam(model.parameters(), lr=0.001)\n",
    " \n",
    "# Training loop\n",
    "for epoch in range(5):  # Train for 5 epochs\n",
    "    for images, labels in train_loader:\n",
    "        outputs = model(images)  # Forward pass\n",
    "        loss = criterion(outputs, labels)  # Compute loss\n",
    " \n",
    "        optimizer.zero_grad()  # Clear gradients\n",
    "        loss.backward()        # Backpropagation\n",
    "        optimizer.step()       # Update weights\n",
    " \n",
    "    print(f'Epoch {epoch+1}, Loss: {loss.item():.4f}')\n",
    " \n",
    "# Evaluate model accuracy on test data\n",
    "correct = 0\n",
    "total = 0\n",
    "with torch.no_grad():  # Disable gradient calculation for testing\n",
    "    for images, labels in test_loader:\n",
    "        outputs = model(images)\n",
    "        _, predicted = torch.max(outputs, 1)  # Get class with highest score\n",
    "        total += labels.size(0)\n",
    "        correct += (predicted == labels).sum().item()\n",
    " "
   ]
  }
 ],
 "metadata": {
  "kernelspec": {
   "display_name": "Python 3 (ipykernel)",
   "language": "python",
   "name": "python3"
  },
  "language_info": {
   "codemirror_mode": {
    "name": "ipython",
    "version": 3
   },
   "file_extension": ".py",
   "mimetype": "text/x-python",
   "name": "python",
   "nbconvert_exporter": "python",
   "pygments_lexer": "ipython3",
   "version": "3.13.5"
  }
 },
 "nbformat": 4,
 "nbformat_minor": 5
}
