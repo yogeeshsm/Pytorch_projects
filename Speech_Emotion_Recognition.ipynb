{
  "nbformat": 4,
  "nbformat_minor": 0,
  "metadata": {
    "colab": {
      "provenance": [],
      "authorship_tag": "ABX9TyN5SiVqDBw4tfqaa3lfwVzE",
      "include_colab_link": true
    },
    "kernelspec": {
      "name": "python3",
      "display_name": "Python 3"
    },
    "language_info": {
      "name": "python"
    }
  },
  "cells": [
    {
      "cell_type": "markdown",
      "metadata": {
        "id": "view-in-github",
        "colab_type": "text"
      },
      "source": [
        "<a href=\"https://colab.research.google.com/github/yogeeshsm/Pytorch_projects/blob/main/Speech_Emotion_Recognition.ipynb\" target=\"_parent\"><img src=\"https://colab.research.google.com/assets/colab-badge.svg\" alt=\"Open In Colab\"/></a>"
      ]
    },
    {
      "cell_type": "code",
      "execution_count": 2,
      "metadata": {
        "colab": {
          "base_uri": "https://localhost:8080/"
        },
        "id": "yM31Z24uBa55",
        "outputId": "3b8a7730-c963-471f-8447-f6bef8302f90"
      },
      "outputs": [
        {
          "output_type": "stream",
          "name": "stderr",
          "text": [
            "/usr/local/lib/python3.12/dist-packages/torchaudio/functional/functional.py:585: UserWarning: At least one mel filterbank has all zero values. The value for `n_mels` (128) may be set too high. Or, the value for `n_freqs` (201) may be set too low.\n",
            "  warnings.warn(\n"
          ]
        },
        {
          "output_type": "stream",
          "name": "stdout",
          "text": [
            "Epoch 1, Loss: 0.0633\n"
          ]
        }
      ],
      "source": [
        "import torch\n",
        "import torch.nn as nn\n",
        "import torchaudio\n",
        "# from torchaudio.datasets import RAVDESS # RAVDESS is not directly available in torchaudio.datasets\n",
        "from torchaudio.transforms import MFCC\n",
        "from torch.utils.data import DataLoader\n",
        "import os\n",
        "\n",
        "# Load RAVDESS dataset (if available or simulate similar)\n",
        "# You will need to implement your own data loading for the RAVDESS dataset.\n",
        "# This custom dataset class is a placeholder.\n",
        "class EmotionDataset(torch.utils.data.Dataset):\n",
        "    def __init__(self, root, transform):\n",
        "        # Replace this with your actual RAVDESS data loading logic\n",
        "        # Example: Load audio files and labels from the specified root directory\n",
        "        self.data = [] # List of (waveform, sample_rate, label) tuples\n",
        "        self.transform = transform\n",
        "        self.label_map = {1: \"neutral\", 2: \"calm\", 3: \"happy\", 4: \"sad\", 5: \"angry\", 6: \"fearful\", 7: \"disgust\", 8: \"surprised\"}\n",
        "\n",
        "        # Placeholder data - replace with your RAVDESS loading\n",
        "        # For demonstration purposes, let's create some dummy data\n",
        "        dummy_waveform = torch.randn(1, 16000) # 1 second of dummy audio\n",
        "        dummy_sample_rate = 16000\n",
        "        dummy_label = 1 # Example label\n",
        "        for _ in range(100): # Create 100 dummy samples\n",
        "            self.data.append((dummy_waveform, dummy_sample_rate, dummy_label))\n",
        "\n",
        "\n",
        "    def __getitem__(self, index):\n",
        "        waveform, sample_rate, label = self.data[index]\n",
        "        mfcc = self.transform(waveform).squeeze(0).transpose(0, 1)  # [time, features]\n",
        "        return mfcc, label - 1  # Zero-based label\n",
        "\n",
        "    def __len__(self):\n",
        "        return len(self.data)\n",
        "\n",
        "# Feature extraction: MFCC\n",
        "mfcc_transform = MFCC(sample_rate=16000, n_mfcc=40)\n",
        "\n",
        "# Create dataset and dataloader\n",
        "dataset = EmotionDataset(root=\"./data\", transform=mfcc_transform)\n",
        "dataloader = DataLoader(dataset, batch_size=4, shuffle=True, drop_last=True)\n",
        "\n",
        "# LSTM model for classification\n",
        "class EmotionLSTM(nn.Module):\n",
        "    def __init__(self, input_dim, hidden_dim, output_dim):\n",
        "        super().__init__()\n",
        "        self.lstm = nn.LSTM(input_dim, hidden_dim, batch_first=True)\n",
        "        self.fc = nn.Linear(hidden_dim, output_dim)\n",
        "\n",
        "    def forward(self, x):\n",
        "        _, (h_n, _) = self.lstm(x)\n",
        "        return self.fc(h_n.squeeze(0))\n",
        "\n",
        "model = EmotionLSTM(input_dim=40, hidden_dim=128, output_dim=8)\n",
        "criterion = nn.CrossEntropyLoss()\n",
        "optimizer = torch.optim.Adam(model.parameters(), lr=0.001)\n",
        "\n",
        "# Train loop (1 epoch for demo)\n",
        "for epoch in range(1):\n",
        "    for x, y in dataloader:\n",
        "        outputs = model(x)\n",
        "        loss = criterion(outputs, y)\n",
        "\n",
        "        optimizer.zero_grad()\n",
        "        loss.backward()\n",
        "        optimizer.step()\n",
        "\n",
        "    print(f\"Epoch {epoch+1}, Loss: {loss.item():.4f}\")"
      ]
    }
  ]
}