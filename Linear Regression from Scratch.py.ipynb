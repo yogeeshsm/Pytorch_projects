{
 "cells": [
  {
   "cell_type": "code",
   "execution_count": 1,
   "id": "9b6416d1-8e73-40cb-9aa3-e3bdc191caac",
   "metadata": {},
   "outputs": [
    {
     "name": "stdout",
     "output_type": "stream",
     "text": [
      "Epoch 100, Loss: 0.0262\n",
      "Epoch 200, Loss: 0.0144\n",
      "Epoch 300, Loss: 0.0079\n",
      "Epoch 400, Loss: 0.0043\n",
      "Epoch 500, Loss: 0.0024\n",
      "Epoch 600, Loss: 0.0013\n",
      "Epoch 700, Loss: 0.0007\n",
      "Epoch 800, Loss: 0.0004\n",
      "Epoch 900, Loss: 0.0002\n",
      "Epoch 1000, Loss: 0.0001\n",
      "Learned weight: 1.9910, bias: 0.0266\n"
     ]
    }
   ],
   "source": [
    "import torch\n",
    "import torch.nn as nn\n",
    " \n",
    "# Sample input and target output data\n",
    "X = torch.tensor([[1.0], [2.0], [3.0], [4.0]])  # Feature input\n",
    "Y = torch.tensor([[2.0], [4.0], [6.0], [8.0]])  # Target output\n",
    " \n",
    "# Define a simple linear model: y = wx + b\n",
    "model = nn.Linear(in_features=1, out_features=1)\n",
    " \n",
    "# Define the Mean Squared Error loss function\n",
    "criterion = nn.MSELoss()\n",
    " \n",
    "# Use stochastic gradient descent optimizer to update weights\n",
    "optimizer = torch.optim.SGD(model.parameters(), lr=0.01)\n",
    " \n",
    "# Training loop\n",
    "for epoch in range(1000):  # Run for 1000 epochs\n",
    "    y_pred = model(X)  # Forward pass: predict output\n",
    " \n",
    "    loss = criterion(y_pred, Y)  # Compute MSE loss\n",
    " \n",
    "    optimizer.zero_grad()  # Clear previous gradients\n",
    " \n",
    "    loss.backward()  # Backpropagation: compute gradients\n",
    " \n",
    "    optimizer.step()  # Update weights using gradients\n",
    " \n",
    "    # Print progress every 100 epochs\n",
    "    if (epoch + 1) % 100 == 0:\n",
    "        print(f'Epoch {epoch+1}, Loss: {loss.item():.4f}')\n",
    " \n",
    "# After training, print the learned weight and bias\n",
    "params = list(model.parameters())\n",
    "print(f'Learned weight: {params[0].item():.4f}, bias: {params[1].item():.4f}')"
   ]
  },
  {
   "cell_type": "code",
   "execution_count": null,
   "id": "35481a82-5359-40f4-b65f-4217e860597e",
   "metadata": {},
   "outputs": [],
   "source": []
  }
 ],
 "metadata": {
  "kernelspec": {
   "display_name": "Python 3 (ipykernel)",
   "language": "python",
   "name": "python3"
  },
  "language_info": {
   "codemirror_mode": {
    "name": "ipython",
    "version": 3
   },
   "file_extension": ".py",
   "mimetype": "text/x-python",
   "name": "python",
   "nbconvert_exporter": "python",
   "pygments_lexer": "ipython3",
   "version": "3.13.5"
  }
 },
 "nbformat": 4,
 "nbformat_minor": 5
}
