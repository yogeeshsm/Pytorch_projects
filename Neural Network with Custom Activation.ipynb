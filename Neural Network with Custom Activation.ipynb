{
 "cells": [
  {
   "cell_type": "code",
   "execution_count": 4,
   "id": "e34f4318-d4dc-4b6d-a43b-1452c29f6789",
   "metadata": {},
   "outputs": [
    {
     "name": "stdout",
     "output_type": "stream",
     "text": [
      "Epoch 40, Loss: 0.0224\n",
      "Epoch 80, Loss: 0.0269\n",
      "Epoch 120, Loss: 0.0034\n",
      "Epoch 160, Loss: 0.0108\n",
      "Epoch 200, Loss: 0.0013\n"
     ]
    }
   ],
   "source": [
    "\n",
    "import torch\n",
    "import torch.nn as nn\n",
    "import torch.nn.functional as F\n",
    "from torch.utils.data import TensorDataset, DataLoader\n",
    " \n",
    "# Generate some synthetic data\n",
    "X = torch.linspace(-3, 3, 100).unsqueeze(1)  # 100 inputs from -3 to 3\n",
    "Y = torch.sin(X) + 0.1 * torch.randn(X.size())  # Target: noisy sine wave\n",
    " \n",
    "# Load data into a DataLoader\n",
    "dataset = TensorDataset(X, Y)\n",
    "loader = DataLoader(dataset, batch_size=16, shuffle=True)\n",
    " \n",
    "# Define a custom activation function\n",
    "def swish(x):\n",
    "    return x * torch.sigmoid(x)  # Swish: x * sigmoid(x)\n",
    " \n",
    "# Custom Swish activation as a module (for use in nn.Sequential)\n",
    "class Swish(nn.Module):\n",
    "    def forward(self, x):\n",
    "        return x * torch.sigmoid(x)\n",
    " \n",
    "# Define a simple feedforward neural network using the Swish activation\n",
    "class SwishNet(nn.Module):\n",
    "    def __init__(self):\n",
    "        super(SwishNet, self).__init__()\n",
    "        self.net = nn.Sequential(\n",
    "            nn.Linear(1, 32),  # Input layer\n",
    "            Swish(),           # Custom activation\n",
    "            nn.Linear(32, 32), \n",
    "            Swish(),           # Another Swish\n",
    "            nn.Linear(32, 1)   # Output layer\n",
    "        )\n",
    " \n",
    "    def forward(self, x):\n",
    "        return self.net(x)\n",
    " \n",
    "model = SwishNet()\n",
    " \n",
    "# Use Mean Squared Error loss\n",
    "criterion = nn.MSELoss()\n",
    "optimizer = torch.optim.Adam(model.parameters(), lr=0.01)\n",
    " \n",
    "# Training loop\n",
    "for epoch in range(200):\n",
    "    for batch_X, batch_Y in loader:\n",
    "        output = model(batch_X)              # Forward pass\n",
    "        loss = criterion(output, batch_Y)    # Compute MSE loss\n",
    " \n",
    "        optimizer.zero_grad()                # Clear gradients\n",
    "        loss.backward()                      # Backpropagation\n",
    "        optimizer.step()                     # Update weights\n",
    " \n",
    "    if (epoch+1) % 40 == 0:\n",
    "        print(f'Epoch {epoch+1}, Loss: {loss.item():.4f}')"
   ]
  },
  {
   "cell_type": "code",
   "execution_count": null,
   "id": "490f76e6-640f-4150-88d4-43abcd510213",
   "metadata": {},
   "outputs": [],
   "source": []
  }
 ],
 "metadata": {
  "kernelspec": {
   "display_name": "Python 3 (ipykernel)",
   "language": "python",
   "name": "python3"
  },
  "language_info": {
   "codemirror_mode": {
    "name": "ipython",
    "version": 3
   },
   "file_extension": ".py",
   "mimetype": "text/x-python",
   "name": "python",
   "nbconvert_exporter": "python",
   "pygments_lexer": "ipython3",
   "version": "3.13.5"
  }
 },
 "nbformat": 4,
 "nbformat_minor": 5
}
