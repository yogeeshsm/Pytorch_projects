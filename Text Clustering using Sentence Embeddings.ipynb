{
 "cells": [
  {
   "cell_type": "code",
   "execution_count": 6,
   "id": "e21efced-c592-43aa-9427-8fc5e4d9b9e4",
   "metadata": {},
   "outputs": [
    {
     "name": "stdout",
     "output_type": "stream",
     "text": [
      "\n",
      "Clustered Sentences:\n",
      "\n",
      "Cluster 1:\n",
      "- Cats are playful pets.\n",
      "- Dogs are loyal companions.\n",
      "\n",
      "Cluster 2:\n",
      "- I'm learning machine learning.\n",
      "- Neural networks are fascinating.\n",
      "- Transformers changed natural language processing.\n",
      "- Parrots can mimic human speech.\n",
      "\n",
      "Cluster 3:\n",
      "- I love pizza and pasta.\n",
      "- Burgers are my favorite food.\n",
      "- Sushi is a traditional Japanese dish.\n",
      "- I enjoy deep learning research.\n"
     ]
    },
    {
     "name": "stderr",
     "output_type": "stream",
     "text": [
      "C:\\ProgramData\\anaconda3\\Lib\\site-packages\\sklearn\\cluster\\_kmeans.py:1419: UserWarning: KMeans is known to have a memory leak on Windows with MKL, when there are less chunks than available threads. You can avoid it by setting the environment variable OMP_NUM_THREADS=1.\n",
      "  warnings.warn(\n"
     ]
    }
   ],
   "source": [
    "from sentence_transformers import SentenceTransformer\n",
    "from sklearn.cluster import KMeans\n",
    "import matplotlib.pyplot as plt\n",
    "import seaborn as sns\n",
    " \n",
    "# Sample corpus\n",
    "corpus = [\n",
    "    \"I love pizza and pasta.\",\n",
    "    \"Burgers are my favorite food.\",\n",
    "    \"Cats are playful pets.\",\n",
    "    \"Dogs are loyal companions.\",\n",
    "    \"I'm learning machine learning.\",\n",
    "    \"Neural networks are fascinating.\",\n",
    "    \"Sushi is a traditional Japanese dish.\",\n",
    "    \"Transformers changed natural language processing.\",\n",
    "    \"I enjoy deep learning research.\",\n",
    "    \"Parrots can mimic human speech.\"\n",
    "]\n",
    " \n",
    "# Load Sentence-BERT model\n",
    "model = SentenceTransformer('all-MiniLM-L6-v2')\n",
    "embeddings = model.encode(corpus)\n",
    " \n",
    "# Apply KMeans clustering\n",
    "num_clusters = 3\n",
    "kmeans = KMeans(n_clusters=num_clusters, random_state=42)\n",
    "labels = kmeans.fit_predict(embeddings)\n",
    " \n",
    "# Print clustered sentences\n",
    "print(\"\\nClustered Sentences:\")\n",
    "for i in range(num_clusters):\n",
    "    print(f\"\\nCluster {i + 1}:\")\n",
    "    for j, label in enumerate(labels):\n",
    "        if label == i:\n",
    "            print(\"-\", corpus[j])"
   ]
  },
  {
   "cell_type": "code",
   "execution_count": null,
   "id": "b2afb291-9f2d-4d66-a56b-2d9ae7810439",
   "metadata": {},
   "outputs": [],
   "source": []
  }
 ],
 "metadata": {
  "kernelspec": {
   "display_name": "Python 3 (ipykernel)",
   "language": "python",
   "name": "python3"
  },
  "language_info": {
   "codemirror_mode": {
    "name": "ipython",
    "version": 3
   },
   "file_extension": ".py",
   "mimetype": "text/x-python",
   "name": "python",
   "nbconvert_exporter": "python",
   "pygments_lexer": "ipython3",
   "version": "3.13.5"
  }
 },
 "nbformat": 4,
 "nbformat_minor": 5
}
